{
 "cells": [
  {
   "cell_type": "markdown",
   "metadata": {},
   "source": [
    "# <u>Real-time Color Tracking using OpenCV</u>"
   ]
  },
  {
   "cell_type": "markdown",
   "metadata": {},
   "source": [
    "## Importing required libraries.\n",
    "\n",
    ">### <u>OpenCV</u> <i>(Open source computer vision)</i> is a library of programming functions mainly aimed at real-time computer vision.\n",
    "\n",
    ">### <u>NumPy</u> is a general-purpose array-processing package.<br>It provides a high-performance multidimensional array object, and tools for working with these arrays."
   ]
  },
  {
   "cell_type": "code",
   "execution_count": 1,
   "metadata": {},
   "outputs": [],
   "source": [
    "import cv2\n",
    "import numpy as np"
   ]
  },
  {
   "cell_type": "markdown",
   "metadata": {},
   "source": [
    "### Defining an <i>empty function</i> which is to be called every time the trackbar(slider) changes position.<br>Its an empty function which does nothing."
   ]
  },
  {
   "cell_type": "code",
   "execution_count": 2,
   "metadata": {},
   "outputs": [],
   "source": [
    "def emptyFunction():\n",
    "    pass"
   ]
  },
  {
   "cell_type": "markdown",
   "metadata": {},
   "source": [
    "### Defining main() function"
   ]
  },
  {
   "cell_type": "code",
   "execution_count": 3,
   "metadata": {},
   "outputs": [],
   "source": [
    "def main():\n",
    "    # Here window name is 'Color Tracking'.\n",
    "    windowName = \"Color Tracking\"\n",
    "    \n",
    "    cv2.namedWindow(windowName)\n",
    "    \n",
    "    # Capturing live video feed and storing in 'cap' variable.\n",
    "    cap = cv2.VideoCapture(0)\n",
    "    \n",
    "    # Here, if live video feed is active(open), then reading(fetching) the video frames.\n",
    "    if cap.isOpened():\n",
    "        ret, frame = cap.read()\n",
    "    else:\n",
    "        ret = False\n",
    "        \n",
    "    # Creaying 3 trackbars for setting lower limit/values of Blue, Green and Red (BGR) range.\n",
    "    \n",
    "    cv2.createTrackbar('low_B', windowName, 0, 255, emptyFunction)\n",
    "    cv2.createTrackbar('low_G', windowName, 0, 255, emptyFunction)\n",
    "    cv2.createTrackbar('low_R', windowName, 0, 255, emptyFunction)\n",
    "\n",
    "    # Creaying 3 more trackbars for setting higher limit/values of Blue, Green and Red (BGR) range.\n",
    "    \n",
    "    cv2.createTrackbar('high_B', windowName, 0, 255, emptyFunction)\n",
    "    cv2.setTrackbarPos('high_B', windowName, 255)\n",
    "    cv2.createTrackbar('high_G', windowName, 0, 255, emptyFunction)\n",
    "    cv2.setTrackbarPos('high_G', windowName, 255)\n",
    "    cv2.createTrackbar('high_R', windowName, 0, 255, emptyFunction)\n",
    "    cv2.setTrackbarPos('high_R', windowName, 255)\n",
    "\n",
    "    # Updating the output(color tracking window) untill the video feed is open/active.\n",
    "    while ret:\n",
    "        ret, frame = cap.read()\n",
    "        \n",
    "        # Changing the color scheme from BGR to HSV\n",
    "        hsv = cv2.cvtColor(frame, cv2.COLOR_BGR2HSV)\n",
    "        \n",
    "        # Fetching the current trackbar positions, this helps in setting color range.\n",
    "        low_blue = cv2.getTrackbarPos('low_B', windowName)\n",
    "        low_green = cv2.getTrackbarPos('low_G', windowName)\n",
    "        low_red = cv2.getTrackbarPos('low_R', windowName)\n",
    "\n",
    "        high_blue = cv2.getTrackbarPos('high_B', windowName)\n",
    "        high_green = cv2.getTrackbarPos('high_G', windowName)\n",
    "        high_red = cv2.getTrackbarPos('high_R', windowName)\n",
    "\n",
    "        low = np.array([low_blue, low_green, low_red])\n",
    "        high = np.array([high_blue, high_green, high_red])\n",
    "    \n",
    "        '''\n",
    "        Color range for:\n",
    "            Blue Color\n",
    "            Low values(100, 50, 50)\n",
    "            High values(140, 255, 255)\n",
    "\n",
    "            Green Color\n",
    "            Low values(40, 50, 50)\n",
    "            High values(80, 255, 255)\n",
    "\n",
    "            Red Color\n",
    "            Low values(140, 150, 50)\n",
    "            High values(180, 255, 255)\n",
    "        '''\n",
    "        \n",
    "        image_mask = cv2.inRange(hsv, low, high)\n",
    "        \n",
    "        # Masking all the video feed expect the areas which comes under specified color range. \n",
    "        output = cv2.bitwise_and(frame, frame, mask = image_mask)\n",
    "        \n",
    "        # Displaying the windows-\n",
    "        cv2.imshow(windowName, output)    #Main Window\n",
    "        \n",
    "        cv2.imshow(\"Binary Masked\", image_mask)    #Window for Binary Masked Live Video\n",
    "        \n",
    "        cv2.imshow(\"Original\", frame)    #Window for Original Live Video\n",
    "        \n",
    "        # Window will colse only when 'Esc' key will be pressed, loop will break (ASCII for Esc is 27).\n",
    "        if cv2.waitKey(1) == 27:\n",
    "            break\n",
    "\n",
    "    # Destroying/Terminating all the created window(s) and Releasing the Camera.\n",
    "    cv2.destroyAllWindows()\n",
    "    cap.release()"
   ]
  },
  {
   "cell_type": "markdown",
   "metadata": {},
   "source": [
    "#### Calling the main() function only if the module run directly as a script, not as imported module."
   ]
  },
  {
   "cell_type": "code",
   "execution_count": null,
   "metadata": {},
   "outputs": [],
   "source": [
    "if __name__ == \"__main__\":\n",
    "\tmain()"
   ]
  },
  {
   "cell_type": "code",
   "execution_count": null,
   "metadata": {},
   "outputs": [],
   "source": []
  }
 ],
 "metadata": {
  "kernelspec": {
   "display_name": "Python 3",
   "language": "python",
   "name": "python3"
  },
  "language_info": {
   "codemirror_mode": {
    "name": "ipython",
    "version": 3
   },
   "file_extension": ".py",
   "mimetype": "text/x-python",
   "name": "python",
   "nbconvert_exporter": "python",
   "pygments_lexer": "ipython3",
   "version": "3.6.8"
  }
 },
 "nbformat": 4,
 "nbformat_minor": 2
}
